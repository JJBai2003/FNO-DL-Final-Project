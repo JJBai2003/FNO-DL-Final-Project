{
 "cells": [
  {
   "cell_type": "code",
   "execution_count": 3,
   "metadata": {},
   "outputs": [],
   "source": [
    "from pathlib import Path\n",
    "import torch\n",
    "import numpy as np\n",
    "import scipy.io\n",
    "import torch.utils.data as td"
   ]
  },
  {
   "cell_type": "code",
   "execution_count": 27,
   "metadata": {},
   "outputs": [],
   "source": [
    "def load_burgers_1d(n_train, n_test, batch_size):\n",
    "    sub = 2**0 #subsampling rate\n",
    "    h = 2**13 // sub #total grid size divided by the subsampling rate\n",
    "    s = h\n",
    "    dl = scipy.io.loadmat('burgers_data_R10.mat')\n",
    "    x_data = dl.get('a')[:,::sub]\n",
    "    y_data = dl.get('u')[:,::sub]\n",
    "\n",
    "    x_train = x_data[:n_train,:]\n",
    "    y_train = torch.Tensor(y_data[:n_train,:])\n",
    "    x_test = x_data[-n_test:,:]\n",
    "    y_test = torch.Tensor(y_data[-n_test:,:])\n",
    "    x_train = torch.Tensor(np.reshape(x_train, (n_train,s,1)))\n",
    "    x_test = torch.Tensor(np.reshape(x_test, (n_test,s,1)))\n",
    "\n",
    "    train_loader = torch.utils.data.DataLoader(torch.utils.data.TensorDataset(x_train, y_train), batch_size=batch_size, shuffle=True)\n",
    "    test_loader = torch.utils.data.DataLoader(torch.utils.data.TensorDataset(x_test, y_test), batch_size=batch_size, shuffle=False)\n",
    "\n",
    "\n",
    "    return train_loader, test_loader"
   ]
  },
  {
   "cell_type": "code",
   "execution_count": 28,
   "metadata": {},
   "outputs": [],
   "source": [
    "# loading data: following the paper: training = 1000 and testing = 200\n",
    "train_loader, test_loader = load_burgers_1d(n_train=1000, n_test=200, batch_size=16)"
   ]
  },
  {
   "cell_type": "markdown",
   "metadata": {},
   "source": [
    "### Training"
   ]
  },
  {
   "cell_type": "code",
   "execution_count": 29,
   "metadata": {},
   "outputs": [],
   "source": [
    "from losses import relative_h1_loss, relative_l2_loss\n",
    "from FNO import FNO"
   ]
  },
  {
   "cell_type": "code",
   "execution_count": 30,
   "metadata": {},
   "outputs": [
    {
     "name": "stdout",
     "output_type": "stream",
     "text": [
      "initializing Fourier Integral Operator\n",
      "initializing Fourier Integral Operator\n",
      "initializing Fourier Integral Operator\n",
      "initializing Fourier Integral Operator\n",
      "epoch 0 train_mse: 0.49057827640088303 l2 train error: 0.04438588624820113\n",
      "epoch 1 train_mse: 0.008373566278596483 l2 train error: 0.014167053978890181\n",
      "epoch 2 train_mse: 0.0037824441420121323 l2 train error: 0.009361825976520776\n",
      "epoch 3 train_mse: 0.0028893594169944877 l2 train error: 0.008254547668620944\n",
      "epoch 4 train_mse: 0.001932057138118479 l2 train error: 0.006826693275943398\n",
      "epoch 5 train_mse: 0.0019255403423726204 l2 train error: 0.006664884919300676\n",
      "epoch 6 train_mse: 0.002683183553421663 l2 train error: 0.007862610705196858\n",
      "epoch 7 train_mse: 0.0017695764226595028 l2 train error: 0.0065875246422365304\n",
      "epoch 8 train_mse: 0.0031743208657846684 l2 train error: 0.00828359202016145\n",
      "epoch 9 train_mse: 0.0014155506339323307 l2 train error: 0.005928453635424376\n",
      "epoch 10 train_mse: 0.001124341256125638 l2 train error: 0.0052559435879811645\n",
      "epoch 11 train_mse: 0.0017987579848277309 l2 train error: 0.006524161431007087\n",
      "epoch 12 train_mse: 0.0012872828760125217 l2 train error: 0.00565271973144263\n",
      "epoch 13 train_mse: 0.001920604595123598 l2 train error: 0.0067483641440048816\n",
      "epoch 14 train_mse: 0.0012108769465518732 l2 train error: 0.005444452608935535\n",
      "epoch 15 train_mse: 0.0009812807113612218 l2 train error: 0.0048992435308173295\n",
      "epoch 16 train_mse: 0.0009590603752128248 l2 train error: 0.004858190198428929\n",
      "epoch 17 train_mse: 0.0012845394112879322 l2 train error: 0.0054992874758318065\n",
      "epoch 18 train_mse: 0.0009327273185749257 l2 train error: 0.004786692606285214\n",
      "epoch 19 train_mse: 0.0010365548022534875 l2 train error: 0.005041675819084049\n",
      "epoch 20 train_mse: 0.0007241045950361276 l2 train error: 0.004180567781440913\n",
      "epoch 21 train_mse: 0.0010941241108368906 l2 train error: 0.005142014441080391\n",
      "epoch 22 train_mse: 0.001005937652533046 l2 train error: 0.004932674425654113\n",
      "epoch 23 train_mse: 0.0009214697037971327 l2 train error: 0.004747033328749239\n",
      "epoch 24 train_mse: 0.0008132436759917746 l2 train error: 0.004404694712720811\n",
      "epoch 25 train_mse: 0.0009701199060867704 l2 train error: 0.004865643889643252\n",
      "epoch 26 train_mse: 0.0010662016954036458 l2 train error: 0.005135368849150837\n",
      "epoch 27 train_mse: 0.0009862914808937127 l2 train error: 0.004809672008268535\n",
      "epoch 28 train_mse: 0.0010481796154404976 l2 train error: 0.005037432094104588\n",
      "epoch 29 train_mse: 0.0009988004661401705 l2 train error: 0.004750147946178913\n",
      "epoch 30 train_mse: 0.001084571465894225 l2 train error: 0.005074508804827928\n",
      "epoch 31 train_mse: 0.0008030390900020148 l2 train error: 0.0044404397113248706\n",
      "epoch 32 train_mse: 0.0010735895544741422 l2 train error: 0.005005541928112507\n",
      "epoch 33 train_mse: 0.0008334199780605674 l2 train error: 0.004400480212643743\n",
      "epoch 34 train_mse: 0.0006209185064238097 l2 train error: 0.003962445268407464\n",
      "epoch 35 train_mse: 0.0006872934186720245 l2 train error: 0.004114754968322813\n",
      "epoch 36 train_mse: 0.0007001058820317248 l2 train error: 0.004154956974089146\n",
      "epoch 37 train_mse: 0.0008087344518456135 l2 train error: 0.004441876201890409\n",
      "epoch 38 train_mse: 0.0005899397423028916 l2 train error: 0.0037896734848618507\n",
      "epoch 39 train_mse: 0.0011837074024018846 l2 train error: 0.005353459720499814\n",
      "epoch 40 train_mse: 0.0007335429485436411 l2 train error: 0.004241763539612293\n",
      "epoch 41 train_mse: 0.0005893954533218805 l2 train error: 0.0038016274804249404\n",
      "epoch 42 train_mse: 0.0008672964542047194 l2 train error: 0.004630403118208051\n",
      "epoch 43 train_mse: 0.0007232724349864478 l2 train error: 0.004225309463217855\n",
      "epoch 44 train_mse: 0.0006586567726030591 l2 train error: 0.003983020107261837\n",
      "epoch 45 train_mse: 0.0006056048868996431 l2 train error: 0.0038336746115237475\n",
      "epoch 46 train_mse: 0.0005699884098407531 l2 train error: 0.003711528666317463\n",
      "epoch 47 train_mse: 0.000759563509038546 l2 train error: 0.004340452621690929\n",
      "epoch 48 train_mse: 0.0008589500207490924 l2 train error: 0.004598337933421135\n",
      "epoch 49 train_mse: 0.0006660922349149746 l2 train error: 0.004072278258390725\n"
     ]
    }
   ],
   "source": [
    "batch_size = 16\n",
    "epochs = 50 # paper has 500\n",
    "model = FNO(16, 64)\n",
    "optimizer = torch.optim.Adam(model.parameters(), lr=0.001, weight_decay=1e-4)\n",
    "scheduler = torch.optim.lr_scheduler.StepLR(optimizer, step_size=50, gamma=0.5)\n",
    "\n",
    "total_l2 = 0\n",
    "total_h1 = 0\n",
    "for ep in range(epochs):\n",
    "    model.train()\n",
    "    train_mse = 0\n",
    "    train_l2 = 0\n",
    "    for x, y in train_loader:\n",
    "        optimizer.zero_grad()\n",
    "        u = model(x)\n",
    "        mse = torch.nn.functional.mse_loss(u.view(batch_size, -1), y.view(batch_size, -1), reduction='mean')\n",
    "        l2 = relative_l2_loss(u.view(batch_size, -1), y.view(batch_size, -1))\n",
    "        l2.backward() # use the l2 relative loss\n",
    "        optimizer.step()\n",
    "        train_mse += mse.item()\n",
    "        train_l2 += l2.item()\n",
    "\n",
    "    scheduler.step()\n",
    "    model.eval()\n",
    "\n",
    "    train_mse /= len(train_loader)\n",
    "    train_l2 /= 800\n",
    "\n",
    "\n",
    "    print(\"epoch \" + str(ep), \"train_mse: \"+ str(train_mse), \"l2 train error: \" + str(train_l2))\n"
   ]
  },
  {
   "cell_type": "code",
   "execution_count": 31,
   "metadata": {},
   "outputs": [
    {
     "name": "stdout",
     "output_type": "stream",
     "text": [
      "h1:  0.21018206156217134\n",
      "l2:  0.0041558642226916095\n"
     ]
    }
   ],
   "source": [
    "count = 0\n",
    "with torch.no_grad():\n",
    "    for x, y in test_loader:\n",
    "        test_l2 = 0\n",
    "        test_h1 = 0\n",
    "        u = model(x)\n",
    "        test_l2 += relative_l2_loss(u.view(batch_size, -1), y.view(batch_size, -1)).item()\n",
    "        test_h1 += relative_h1_loss(u.view(batch_size, -1), y.view(batch_size, -1)).item()\n",
    "        count += + 1\n",
    "print(\"h1: \", test_h1 / count)\n",
    "print(\"l2: \", test_l2 / count)"
   ]
  },
  {
   "cell_type": "code",
   "execution_count": 32,
   "metadata": {},
   "outputs": [
    {
     "data": {
      "image/png": "[encoded data removed]",
      "text/plain": [
       "<Figure size 1200x1200 with 2 Axes>"
      ]
     },
     "metadata": {},
     "output_type": "display_data"
    }
   ],
   "source": [
    "# %pip install matplotlib\n",
    "# If possible, edit code below a bit?\n",
    "import matplotlib.pyplot as plt\n",
    "\n",
    "fig = plt.figure(figsize=(12, 12))\n",
    "\n",
    "for x, y in test_loader:\n",
    "    u = model(x)[10,:]\n",
    "    y_print = y[10,:]\n",
    "    #print(u[0,:].shape)\n",
    "\n",
    "    ax = fig.add_subplot(3, 3, 1)\n",
    "    # plt.plot(x[10])\n",
    "    plt.plot(u.squeeze().detach().numpy())\n",
    "    ax.set_title('Our Implementation')\n",
    "\n",
    "    ax = fig.add_subplot(3, 3, 2)\n",
    "    plt.plot(y_print.squeeze())\n",
    "    ax.set_title('Ground Truth')\n",
    "\n",
    "    break"
   ]
  },
  {
   "cell_type": "code",
   "execution_count": null,
   "metadata": {},
   "outputs": [],
   "source": []
  },
  {
   "cell_type": "code",
   "execution_count": null,
   "metadata": {},
   "outputs": [],
   "source": []
  }
 ],
 "metadata": {
  "kernelspec": {
   "display_name": "base",
   "language": "python",
   "name": "python3"
  },
  "language_info": {
   "codemirror_mode": {
    "name": "ipython",
    "version": 3
   },
   "file_extension": ".py",
   "mimetype": "text/x-python",
   "name": "python",
   "nbconvert_exporter": "python",
   "pygments_lexer": "ipython3",
   "version": "3.11.5"
  }
 },
 "nbformat": 4,
 "nbformat_minor": 2
}
