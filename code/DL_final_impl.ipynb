{
 "cells": [
  {
   "cell_type": "code",
   "execution_count": 1,
   "metadata": {},
   "outputs": [],
   "source": [
    "from pathlib import Path\n",
    "import torch\n",
    "import numpy as np\n",
    "import scipy.io\n",
    "import torch.utils.data as td"
   ]
  },
  {
   "cell_type": "code",
   "execution_count": 6,
   "metadata": {},
   "outputs": [],
   "source": [
    "def load_burgers_1d(n_train, n_test, batch_size):\n",
    "    sub = 2**5 #subsampling rate\n",
    "    h = 2**13 // sub #total grid size divided by the subsampling rate\n",
    "    s = h\n",
    "    dl = scipy.io.loadmat('burgers_data_R10.mat')\n",
    "    x_data = dl.get('a')[:,::sub]\n",
    "    y_data = dl.get('u')[:,::sub]\n",
    "\n",
    "    x_train = x_data[:n_train,:]\n",
    "    y_train = torch.Tensor(y_data[:n_train,:])\n",
    "    x_test = x_data[-n_test:,:]\n",
    "    y_test = torch.Tensor(y_data[-n_test:,:])\n",
    "    x_train = torch.Tensor(np.reshape(x_train, (n_train,s,1)))\n",
    "    x_test = torch.Tensor(np.reshape(x_test, (n_test,s,1)))\n",
    "\n",
    "    train_loader = torch.utils.data.DataLoader(torch.utils.data.TensorDataset(x_train, y_train), batch_size=batch_size, shuffle=True)\n",
    "    test_loader = torch.utils.data.DataLoader(torch.utils.data.TensorDataset(x_test, y_test), batch_size=batch_size, shuffle=False)\n",
    "\n",
    "\n",
    "    return train_loader, test_loader"
   ]
  },
  {
   "cell_type": "code",
   "execution_count": 7,
   "metadata": {},
   "outputs": [],
   "source": [
    "# loading data: following the paper: training = 1000 and testing = 200\n",
    "train_loader, test_loader = load_burgers_1d(n_train=1000, n_test=200, batch_size=16)"
   ]
  },
  {
   "cell_type": "markdown",
   "metadata": {},
   "source": [
    "### Training"
   ]
  },
  {
   "cell_type": "code",
   "execution_count": 8,
   "metadata": {},
   "outputs": [],
   "source": [
    "from losses import relative_h1_loss, relative_l2_loss\n",
    "from FNO import FNO"
   ]
  },
  {
   "cell_type": "code",
   "execution_count": 9,
   "metadata": {},
   "outputs": [
    {
     "name": "stdout",
     "output_type": "stream",
     "text": [
      "initializing Fourier Integral Operator\n",
      "initializing Fourier Integral Operator\n",
      "initializing Fourier Integral Operator\n",
      "initializing Fourier Integral Operator\n",
      "epoch 0 train_mse: 0.2207724930319403 l2 train error: 0.04669290220364928\n",
      "epoch 1 train_mse: 0.003746203089591175 l2 train error: 0.009359965459443629\n",
      "epoch 2 train_mse: 0.0023328657169634152 l2 train error: 0.007327773016877473\n",
      "epoch 3 train_mse: 0.0022438389858016597 l2 train error: 0.00715904884506017\n",
      "epoch 4 train_mse: 0.0010474882904432773 l2 train error: 0.005112251583486795\n",
      "epoch 5 train_mse: 0.0011779718555598741 l2 train error: 0.0053548025758937004\n",
      "epoch 6 train_mse: 0.0011162014612521502 l2 train error: 0.005165683859959244\n",
      "epoch 7 train_mse: 0.0026082395426263766 l2 train error: 0.007613316625356675\n",
      "epoch 8 train_mse: 0.0010376317530042594 l2 train error: 0.004949003476649522\n",
      "epoch 9 train_mse: 0.0012771870459555574 l2 train error: 0.005398070076480508\n",
      "epoch 10 train_mse: 0.0007674136893853308 l2 train error: 0.004245613943785429\n",
      "epoch 11 train_mse: 0.001455416280632129 l2 train error: 0.005922836200334132\n",
      "epoch 12 train_mse: 0.0010634770733304322 l2 train error: 0.0050693463766947385\n",
      "epoch 13 train_mse: 0.0008730605528283391 l2 train error: 0.004508864055387676\n",
      "epoch 14 train_mse: 0.0006758906168951874 l2 train error: 0.0040056217601522805\n",
      "epoch 15 train_mse: 0.0008897846379864311 l2 train error: 0.0045664876978844405\n",
      "epoch 16 train_mse: 0.0005987888543463741 l2 train error: 0.0037771141505800188\n",
      "epoch 17 train_mse: 0.0007334283686109952 l2 train error: 0.004156658540014177\n",
      "epoch 18 train_mse: 0.0007243218512037799 l2 train error: 0.004199866100680083\n",
      "epoch 19 train_mse: 0.0008187493321389728 l2 train error: 0.0044937713770195845\n",
      "epoch 20 train_mse: 0.0006001937045579008 l2 train error: 0.0037988094054162503\n",
      "epoch 21 train_mse: 0.0007612415375040164 l2 train error: 0.004258395282085985\n",
      "epoch 22 train_mse: 0.0006536798392762504 l2 train error: 0.004036231092177331\n",
      "epoch 23 train_mse: 0.0006194470842028894 l2 train error: 0.0038218442793004214\n",
      "epoch 24 train_mse: 0.0007008371310168138 l2 train error: 0.0041189037822186945\n",
      "epoch 25 train_mse: 0.0004646522616634944 l2 train error: 0.0033156207390129568\n",
      "epoch 26 train_mse: 0.00046594496719383943 l2 train error: 0.003330137322191149\n",
      "epoch 27 train_mse: 0.00044532979044893255 l2 train error: 0.0032962654577568173\n",
      "epoch 28 train_mse: 0.0008474557005914874 l2 train error: 0.004435184919275343\n",
      "epoch 29 train_mse: 0.0010024223498360711 l2 train error: 0.004891271339729429\n",
      "epoch 30 train_mse: 0.000622743802581219 l2 train error: 0.003808642039075494\n",
      "epoch 31 train_mse: 0.0006780528739678659 l2 train error: 0.004024802302010358\n",
      "epoch 32 train_mse: 0.00057412908548334 l2 train error: 0.0036960745276883246\n",
      "epoch 33 train_mse: 0.00045676352728771724 l2 train error: 0.0032814176892861724\n",
      "epoch 34 train_mse: 0.00038071455041755966 l2 train error: 0.0030591059802100064\n",
      "epoch 35 train_mse: 0.0006389330974632194 l2 train error: 0.0038728299643844364\n",
      "epoch 36 train_mse: 0.0005287704261718318 l2 train error: 0.0035754228150472046\n",
      "epoch 37 train_mse: 0.00047930255176551227 l2 train error: 0.0034365139831788838\n",
      "epoch 38 train_mse: 0.0005593225909655707 l2 train error: 0.003699221045244485\n",
      "epoch 39 train_mse: 0.00044769181759976264 l2 train error: 0.003321184297092259\n",
      "epoch 40 train_mse: 0.0006010852650635772 l2 train error: 0.0037704992992803454\n",
      "epoch 41 train_mse: 0.0006011542969241014 l2 train error: 0.0037014287058264018\n",
      "epoch 42 train_mse: 0.00042038295664713674 l2 train error: 0.0032256683986634014\n",
      "epoch 43 train_mse: 0.0006087671968594401 l2 train error: 0.0038001118856482207\n",
      "epoch 44 train_mse: 0.0004660739865530992 l2 train error: 0.0033503692224621773\n",
      "epoch 45 train_mse: 0.0005326592492767506 l2 train error: 0.0035832447092980146\n",
      "epoch 46 train_mse: 0.0005225937957653688 l2 train error: 0.0035554125416092574\n",
      "epoch 47 train_mse: 0.0004610760326382689 l2 train error: 0.0033442023932002485\n",
      "epoch 48 train_mse: 0.0005681097608185299 l2 train error: 0.0037202883744612337\n",
      "epoch 49 train_mse: 0.0004159429453365091 l2 train error: 0.0031976592587307094\n"
     ]
    }
   ],
   "source": [
    "batch_size = 16\n",
    "epochs = 50 # paper has 500\n",
    "model = FNO(16, 64)\n",
    "optimizer = torch.optim.Adam(model.parameters(), lr=0.001, weight_decay=1e-4)\n",
    "scheduler = torch.optim.lr_scheduler.StepLR(optimizer, step_size=50, gamma=0.5)\n",
    "\n",
    "total_l2 = 0\n",
    "total_h1 = 0\n",
    "for ep in range(epochs):\n",
    "    model.train()\n",
    "    train_mse = 0\n",
    "    train_l2 = 0\n",
    "    for x, y in train_loader:\n",
    "        optimizer.zero_grad()\n",
    "        u = model(x)\n",
    "        mse = torch.nn.functional.mse_loss(u.view(batch_size, -1), y.view(batch_size, -1), reduction='mean')\n",
    "        l2 = relative_l2_loss(u.view(batch_size, -1), y.view(batch_size, -1))\n",
    "        l2.backward() # use the l2 relative loss\n",
    "        optimizer.step()\n",
    "        train_mse += mse.item()\n",
    "        train_l2 += l2.item()\n",
    "\n",
    "    scheduler.step()\n",
    "    model.eval()\n",
    "\n",
    "    train_mse /= len(train_loader)\n",
    "    train_l2 /= 800\n",
    "\n",
    "\n",
    "    print(\"epoch \" + str(ep), \"train_mse: \"+ str(train_mse), \"l2 train error: \" + str(train_l2))\n"
   ]
  },
  {
   "cell_type": "code",
   "execution_count": 10,
   "metadata": {},
   "outputs": [
    {
     "name": "stdout",
     "output_type": "stream",
     "text": [
      "h1:  0.13131297551668608\n",
      "l2:  0.0033588569897871753\n"
     ]
    }
   ],
   "source": [
    "count = 0\n",
    "with torch.no_grad():\n",
    "    for x, y in test_loader:\n",
    "        test_l2 = 0\n",
    "        test_h1 = 0\n",
    "        u = model(x)\n",
    "        test_l2 += relative_l2_loss(u.view(batch_size, -1), y.view(batch_size, -1)).item()\n",
    "        test_h1 += relative_h1_loss(u.view(batch_size, -1), y.view(batch_size, -1)).item()\n",
    "        count += + 1\n",
    "print(\"h1: \", test_h1 / count)\n",
    "print(\"l2: \", test_l2 / count)"
   ]
  },
  {
   "cell_type": "code",
   "execution_count": 11,
   "metadata": {},
   "outputs": [
    {
     "data": {
      "image/png": "[encoded data removed]",
      "text/plain": [
       "<Figure size 1200x1200 with 2 Axes>"
      ]
     },
     "metadata": {},
     "output_type": "display_data"
    }
   ],
   "source": [
    "# %pip install matplotlib\n",
    "# If possible, edit code below a bit?\n",
    "import matplotlib.pyplot as plt\n",
    "\n",
    "fig = plt.figure(figsize=(12, 12))\n",
    "\n",
    "for x, y in test_loader:\n",
    "    u = model(x)[10,:]\n",
    "    y_print = y[10,:]\n",
    "    #print(u[0,:].shape)\n",
    "\n",
    "    ax = fig.add_subplot(3, 3, 1)\n",
    "    # plt.plot(x[10])\n",
    "    plt.plot(u.squeeze().detach().numpy())\n",
    "    ax.set_title('Our Implementation')\n",
    "\n",
    "    ax = fig.add_subplot(3, 3, 2)\n",
    "    plt.plot(y_print.squeeze())\n",
    "    ax.set_title('Ground Truth')\n",
    "\n",
    "    break"
   ]
  },
  {
   "cell_type": "code",
   "execution_count": null,
   "metadata": {},
   "outputs": [],
   "source": []
  }
 ],
 "metadata": {
  "kernelspec": {
   "display_name": "base",
   "language": "python",
   "name": "python3"
  },
  "language_info": {
   "codemirror_mode": {
    "name": "ipython",
    "version": 3
   },
   "file_extension": ".py",
   "mimetype": "text/x-python",
   "name": "python",
   "nbconvert_exporter": "python",
   "pygments_lexer": "ipython3",
   "version": "3.11.5"
  }
 },
 "nbformat": 4,
 "nbformat_minor": 2
}
